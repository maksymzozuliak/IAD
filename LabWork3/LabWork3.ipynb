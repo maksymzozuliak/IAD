{
 "cells": [
  {
   "cell_type": "code",
   "execution_count": 29,
   "metadata": {
    "collapsed": true,
    "ExecuteTime": {
     "start_time": "2023-11-07T14:45:54.010555Z",
     "end_time": "2023-11-07T14:45:54.049558Z"
    }
   },
   "outputs": [
    {
     "name": "stdout",
     "output_type": "stream",
     "text": [
      "          Country  Year      Status  Life expectancy  Adult Mortality  \\\n",
      "0     Afghanistan  2015  Developing             65.0            263.0   \n",
      "1     Afghanistan  2014  Developing             59.9            271.0   \n",
      "2     Afghanistan  2013  Developing             59.9            268.0   \n",
      "3     Afghanistan  2012  Developing             59.5            272.0   \n",
      "4     Afghanistan  2011  Developing             59.2            275.0   \n",
      "...           ...   ...         ...              ...              ...   \n",
      "2933     Zimbabwe  2004  Developing             44.3            723.0   \n",
      "2934     Zimbabwe  2003  Developing             44.5            715.0   \n",
      "2935     Zimbabwe  2002  Developing             44.8             73.0   \n",
      "2936     Zimbabwe  2001  Developing             45.3            686.0   \n",
      "2937     Zimbabwe  2000  Developing             46.0            665.0   \n",
      "\n",
      "      infant deaths  Alcohol  percentage expenditure  Hepatitis B  Measles  \\\n",
      "0                62     0.01               71.279624         65.0     1154   \n",
      "1                64     0.01               73.523582         62.0      492   \n",
      "2                66     0.01               73.219243         64.0      430   \n",
      "3                69     0.01               78.184215         67.0     2787   \n",
      "4                71     0.01                7.097109         68.0     3013   \n",
      "...             ...      ...                     ...          ...      ...   \n",
      "2933             27     4.36                0.000000         68.0       31   \n",
      "2934             26     4.06                0.000000          7.0      998   \n",
      "2935             25     4.43                0.000000         73.0      304   \n",
      "2936             25     1.72                0.000000         76.0      529   \n",
      "2937             24     1.68                0.000000         79.0     1483   \n",
      "\n",
      "      ...  Polio  Total expenditure  Diphtheria    HIV/AIDS         GDP  \\\n",
      "0     ...    6.0               8.16         65.0        0.1  584.259210   \n",
      "1     ...   58.0               8.18         62.0        0.1  612.696514   \n",
      "2     ...   62.0               8.13         64.0        0.1  631.744976   \n",
      "3     ...   67.0               8.52         67.0        0.1  669.959000   \n",
      "4     ...   68.0               7.87         68.0        0.1   63.537231   \n",
      "...   ...    ...                ...          ...        ...         ...   \n",
      "2933  ...   67.0               7.13         65.0       33.6  454.366654   \n",
      "2934  ...    7.0               6.52         68.0       36.7  453.351155   \n",
      "2935  ...   73.0               6.53         71.0       39.8   57.348340   \n",
      "2936  ...   76.0               6.16         75.0       42.1  548.587312   \n",
      "2937  ...   78.0               7.10         78.0       43.5  547.358878   \n",
      "\n",
      "      Population   thinness  1-19 years   thinness 5-9 years  \\\n",
      "0     33736494.0                   17.2                 17.3   \n",
      "1       327582.0                   17.5                 17.5   \n",
      "2     31731688.0                   17.7                 17.7   \n",
      "3      3696958.0                   17.9                 18.0   \n",
      "4      2978599.0                   18.2                 18.2   \n",
      "...          ...                    ...                  ...   \n",
      "2933  12777511.0                    9.4                  9.4   \n",
      "2934  12633897.0                    9.8                  9.9   \n",
      "2935    125525.0                    1.2                  1.3   \n",
      "2936  12366165.0                    1.6                  1.7   \n",
      "2937  12222251.0                   11.0                 11.2   \n",
      "\n",
      "      Income composition of resources  Schooling  \n",
      "0                               0.479       10.1  \n",
      "1                               0.476       10.0  \n",
      "2                               0.470        9.9  \n",
      "3                               0.463        9.8  \n",
      "4                               0.454        9.5  \n",
      "...                               ...        ...  \n",
      "2933                            0.407        9.2  \n",
      "2934                            0.418        9.5  \n",
      "2935                            0.427       10.0  \n",
      "2936                            0.427        9.8  \n",
      "2937                            0.434        9.8  \n",
      "\n",
      "[2938 rows x 22 columns]\n"
     ]
    }
   ],
   "source": [
    "import pandas as pd\n",
    "import seaborn as sb\n",
    "import numpy as np\n",
    "import matplotlib.pyplot as plt\n",
    "\n",
    "data = pd.read_csv('Life Expectancy Data.csv')\n",
    "print(data)"
   ]
  },
  {
   "cell_type": "code",
   "execution_count": null,
   "outputs": [],
   "source": [
    "for column in data.iloc[:, 3:]:\n",
    "    column_data = data[column]\n",
    "    print(f'Розподіл фактору {column}')\n",
    "    sb.histplot(data[column], kde=True)\n",
    "    sb.rugplot(data[column])\n",
    "    plt.show()\n",
    "    sb.boxplot(data = data[column])\n",
    "    plt.show()\n"
   ],
   "metadata": {
    "collapsed": false,
    "ExecuteTime": {
     "start_time": "2023-11-07T14:42:41.634137Z",
     "end_time": "2023-11-07T14:42:57.075400Z"
    }
   }
  },
  {
   "cell_type": "code",
   "execution_count": 31,
   "outputs": [
    {
     "name": "stdout",
     "output_type": "stream",
     "text": [
      "Фактор Adult Mortality. Дисперсія: 15448.5209029929. Коваріація з Life expectancy: -824.3092725351494. Кореляція з Life expectancy: -0.6963593137699758.\n",
      "\n",
      "\n",
      "Фактор infant deaths. Дисперсія: 13906.659712018884. Коваріація з Life expectancy: -221.10841937510384. Кореляція з Life expectancy: -0.19655717665526165.\n",
      "\n",
      "\n",
      "Фактор Alcohol. Дисперсія: 16.422048356843053. Коваріація з Life expectancy: 15.664345358268612. Кореляція з Life expectancy: 0.40487676112660204.\n",
      "\n",
      "\n",
      "Фактор percentage expenditure. Дисперсія: 3951805.4827215625. Коваріація з Life expectancy: 7240.651074614019. Кореляція з Life expectancy: 0.3818635033900497.\n",
      "\n",
      "\n",
      "Фактор Hepatitis B. Дисперсія: 628.5056818341719. Коваріація з Life expectancy: 54.12235874606482. Кореляція з Life expectancy: 0.2567619476049244.\n",
      "\n",
      "\n",
      "Фактор Measles. Дисперсія: 131498338.34235595. Коваріація з Life expectancy: -17238.44741333281. Кореляція з Life expectancy: -0.15758580377505835.\n",
      "\n",
      "\n",
      "Фактор BMI. Дисперсія: 401.7632790518308. Коваріація з Life expectancy: 107.50743395213696. Кореляція з Life expectancy: 0.5676935475459864.\n",
      "\n",
      "\n",
      "Фактор under-five deaths. Дисперсія: 25742.774003216797. Коваріація з Life expectancy: -340.57874586243406. Кореляція з Life expectancy: -0.2225291159511754.\n",
      "\n",
      "\n",
      "Фактор Polio. Дисперсія: 548.8733370104052. Коваріація з Life expectancy: 103.50244803042116. Кореляція з Life expectancy: 0.4655558059771987.\n",
      "\n",
      "\n",
      "Фактор Total expenditure. Дисперсія: 6.2416011842798165. Коваріація з Life expectancy: 5.161025136672523. Кореляція з Life expectancy: 0.2180863736916715.\n",
      "\n",
      "\n",
      "Фактор Diphtheria . Дисперсія: 562.4919180684007. Коваріація з Life expectancy: 107.92143576378959. Кореляція з Life expectancy: 0.47949486434158567.\n",
      "\n",
      "\n",
      "Фактор  HIV/AIDS. Дисперсія: 25.783895744141596. Коваріація з Life expectancy: -26.9562633951658. Кореляція з Life expectancy: -0.5565562534006939.\n",
      "\n",
      "\n",
      "Фактор GDP. Дисперсія: 203637733.03554288. Коваріація з Life expectancy: 63572.57373527012. Кореляція з Life expectancy: 0.46145519262073825.\n",
      "\n",
      "\n",
      "Фактор Population. Дисперсія: 3722475920353729.0. Коваріація з Life expectancy: -12920104.178093303. Кореляція з Life expectancy: -0.021538108386786478.\n",
      "\n",
      "\n",
      "Фактор  thinness  1-19 years. Дисперсія: 19.538123370760047. Коваріація з Life expectancy: -20.01528536054733. Кореляція з Life expectancy: -0.4771831915723341.\n",
      "\n",
      "\n",
      "Фактор  thinness 5-9 years. Дисперсія: 20.330017674316203. Коваріація з Life expectancy: -20.177646480405347. Кореляція з Life expectancy: -0.4715836048009973.\n",
      "\n",
      "\n",
      "Фактор Income composition of resources. Дисперсія: 0.04448030957558118. Коваріація з Life expectancy: 1.4313746846608773. Кореляція з Life expectancy: 0.7247759785960612.\n",
      "\n",
      "\n",
      "Фактор Schooling. Дисперсія: 11.282341692810395. Коваріація з Life expectancy: 23.555861787666785. Кореляція з Life expectancy: 0.7519754627366979.\n",
      "\n",
      "\n"
     ]
    }
   ],
   "source": [
    "for column in data.iloc[:, 4:]:\n",
    "    disp = data[column].var()\n",
    "    cov = data['Life expectancy'].cov(data[column])\n",
    "    corr = data['Life expectancy'].corr(data[column])\n",
    "    print(f'Фактор {column}. Дисперсія: {disp}. Коваріація з Life expectancy: {cov}. Кореляція з Life expectancy: {corr}.')\n",
    "    print(\"\\n\")"
   ],
   "metadata": {
    "collapsed": false,
    "ExecuteTime": {
     "start_time": "2023-11-07T14:56:40.705403Z",
     "end_time": "2023-11-07T14:56:40.742842Z"
    }
   }
  },
  {
   "cell_type": "code",
   "execution_count": 41,
   "outputs": [
    {
     "name": "stdout",
     "output_type": "stream",
     "text": [
      "     Schooling  Life expectancy\n",
      "0          0.0        62.880769\n",
      "1          2.8        50.000000\n",
      "2          2.9        55.625000\n",
      "3          3.0        52.100000\n",
      "4          3.1        52.900000\n",
      "..         ...              ...\n",
      "168       20.3        83.425000\n",
      "169       20.4        81.666667\n",
      "170       20.5        79.900000\n",
      "171       20.6        83.000000\n",
      "172       20.7        86.000000\n",
      "\n",
      "[173 rows x 2 columns]\n"
     ]
    }
   ],
   "source": [
    "# Приклад агрегації даних за факторами та розрахунок середньої тривалості життя\n",
    "aggregated_data = data.groupby('Schooling')['Life expectancy'].mean().reset_index()\n",
    "print(aggregated_data)\n"
   ],
   "metadata": {
    "collapsed": false,
    "ExecuteTime": {
     "start_time": "2023-11-07T16:17:05.491564Z",
     "end_time": "2023-11-07T16:17:05.509545Z"
    }
   }
  }
 ],
 "metadata": {
  "kernelspec": {
   "display_name": "Python 3",
   "language": "python",
   "name": "python3"
  },
  "language_info": {
   "codemirror_mode": {
    "name": "ipython",
    "version": 2
   },
   "file_extension": ".py",
   "mimetype": "text/x-python",
   "name": "python",
   "nbconvert_exporter": "python",
   "pygments_lexer": "ipython2",
   "version": "2.7.6"
  }
 },
 "nbformat": 4,
 "nbformat_minor": 0
}
